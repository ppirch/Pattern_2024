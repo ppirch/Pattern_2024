{
 "cells": [
  {
   "cell_type": "markdown",
   "metadata": {},
   "source": [
    "## Homework 1 Clustering and Regression"
   ]
  },
  {
   "cell_type": "markdown",
   "metadata": {},
   "source": [
    "### Instructions"
   ]
  },
  {
   "cell_type": "markdown",
   "metadata": {},
   "source": [
    "Answer the questions and upload your answers to courseville. Answers can be in Thai or English. Answers can be either typed or handwrittern and scanned. the assignment is diveided into several small tasks. Each task is weighted equally(marked with **T**). For this assignment, each task is awared 1 points. There are also optional taks(marked with **OT**) counts for 0.5 points each."
   ]
  },
  {
   "cell_type": "markdown",
   "metadata": {},
   "source": [
    "### Metrics"
   ]
  },
  {
   "cell_type": "markdown",
   "metadata": {},
   "source": [
    "In a population where the amount of cats is equal to the amount of dogs. Considering the following classification results from a classifier."
   ]
  },
  {
   "cell_type": "markdown",
   "metadata": {},
   "source": [
    "| Model A    | Predicted dog | Predicted cat |\n",
    "|------------|---------------|---------------|\n",
    "| Actual dog | 30            | 20            |\n",
    "| Actual cat | 10            | 40            |"
   ]
  },
  {
   "cell_type": "markdown",
   "metadata": {},
   "source": [
    "**T1.** What is the accuracy of Model A?"
   ]
  },
  {
   "cell_type": "code",
   "execution_count": 26,
   "metadata": {},
   "outputs": [
    {
     "name": "stdout",
     "output_type": "stream",
     "text": [
      "Accuracy of Model A is 0.7\n"
     ]
    }
   ],
   "source": [
    "correct_predictions = 30 + 40\n",
    "total_predictions = 30 + 20 + 10 + 40\n",
    "accuracy = correct_predictions / total_predictions\n",
    "print(f\"Accuracy of Model A is {accuracy}\")"
   ]
  },
  {
   "cell_type": "markdown",
   "metadata": {},
   "source": [
    "**T2.** Consider cats as 'class 1' (positive) and dogs as 'class 0' (negative) calculate the precision, recall, and F1."
   ]
  },
  {
   "cell_type": "code",
   "execution_count": null,
   "metadata": {},
   "outputs": [],
   "source": [
    "tp = 40\n",
    "fp = 10\n",
    "fn = 20\n",
    "tn = 30\n",
    "\n",
    "precision = tp / (tp + fp)\n",
    "recall = tp / (tp + fn)\n",
    "f1 = 2 * (precision * recall) / (precision + recall)\n",
    "\n",
    "print(f\"Precision of Model A is {precision}\")\n",
    "print(f\"Recall of Model A is {recall}\")\n",
    "print(f\"F1 of Model A is {f1}\")"
   ]
  },
  {
   "cell_type": "markdown",
   "metadata": {},
   "source": [
    "**T3.** Consider class cat as ‘class 0’ and class dog as ‘class 1’, calculate the\n",
    "precision, recall, and F1.\n",
    "\n",
    "It is important to specify the ‘positive’ class when you calculate precision,\n",
    "recall, and F1. If there are more than two classes, it is usually done in a one-\n",
    "versus-all setting where one class is considered positive and the rest of the classes\n",
    "are considered negative."
   ]
  },
  {
   "cell_type": "code",
   "execution_count": null,
   "metadata": {},
   "outputs": [],
   "source": [
    "tp = 30\n",
    "fp = 20\n",
    "fn = 10\n",
    "tn = 40\n",
    "\n",
    "precision = tp / (tp + fp)\n",
    "recall = tp / (tp + fn)\n",
    "f1 = 2 * (precision * recall) / (precision + recall)\n",
    "\n",
    "print(f\"Precision of Model A is {precision}\")\n",
    "print(f\"Recall of Model A is {recall}\")\n",
    "print(f\"F1 of Model A is {f1}\")"
   ]
  },
  {
   "cell_type": "markdown",
   "metadata": {},
   "source": [
    "**T4.** Now consider a lopsided population where there are 80% cats. What is\n",
    "the accuracy of Model A? Using dog as the positive class, what is the precision,\n",
    "recall, and F1? Explain how and why these numbers change (or does not change)\n",
    "from the previous questions"
   ]
  },
  {
   "cell_type": "markdown",
   "metadata": {},
   "source": [
    "**TODO**"
   ]
  },
  {
   "cell_type": "markdown",
   "metadata": {},
   "source": [
    "**OT1.** Consider the equations for accuracy and F1\n",
    "\n",
    "$$Accuracy = \\frac{TP+TN}{TP+TN+FP+FN}$$\n",
    "$$F1 = \\frac{2TP}{2TP+FP+FN}$$\n",
    "\n",
    "When will accuracy be equal, greater, or less than F1?"
   ]
  },
  {
   "cell_type": "markdown",
   "metadata": {},
   "source": [
    "equal: When the number of True positive (TP) and True negative (TN) are equal TP = TN\n",
    "\n",
    "greater: When number of True negative (TN) greater than True positive (TP) TN > TP\n",
    "\n",
    "less: When number of True negative (TN) less than True positive (TP) TN < TP"
   ]
  },
  {
   "cell_type": "markdown",
   "metadata": {},
   "source": [
    "### Hello Clustering"
   ]
  },
  {
   "cell_type": "markdown",
   "metadata": {},
   "source": [
    "Recall from lecture that K-means has to main steps: the points assignment step, and the mean update step. After the initialization of the centroids, we assign each data point to a centroid. Then, centroids are updated by re-estimating the means.\n",
    "\n",
    "Concretely, if we are given N data points, $x_1, x_2, ..., x_N$, and we would like to from K clusters. We do the following;\n",
    "\n",
    "1. **Initialization**: Pick K random data points as K centroid locations $c_1, c_2, ..., c_K$.\n",
    "2. **Assign:** For each data point k, find the closest centroid. Assign that data point to the centroid. The distance used is typically Euclidean distance.\n",
    "3. **Updater:** For each centroid, calculate the mean from the data points assigned to it.\n",
    "4. **Repeat:** repeat step 2 and 3 until the centroids stop changing (convergence)."
   ]
  },
  {
   "cell_type": "markdown",
   "metadata": {},
   "source": [
    "Given the following data points in x-y coordinates (2 dimensional)"
   ]
  },
  {
   "cell_type": "markdown",
   "metadata": {},
   "source": [
    "|x  |y  |\n",
    "|---|---|\n",
    "|1  |2  |\n",
    "|3  |3  |\n",
    "|2  |2  |\n",
    "|8  |8  |\n",
    "|6  |6  |\n",
    "|7  |7  |\n",
    "|-3 |-3 |\n",
    "|-2 |-4 |\n",
    "|-7 |-7 |"
   ]
  },
  {
   "cell_type": "markdown",
   "metadata": {},
   "source": [
    "**T5.** If the starting points are (3,3), (2,2), and (-3, -3). Describe each assign and update step. What are the points assigned? What are the updated centroids? You may do the calculation by hand or write a program to do it."
   ]
  },
  {
   "cell_type": "code",
   "execution_count": null,
   "metadata": {},
   "outputs": [],
   "source": [
    "def euclidean_distance(point1, point2):\n",
    "    x1, y1 = point1\n",
    "    x2, y2 = point2\n",
    "    return ((x2 - x1) ** 2 + (y2 - y1) ** 2) ** 0.5\n",
    "\n",
    "points = [(1, 2), (3, 3), (2, 2), (8, 8), (6, 6), (7, 7), (-3, -3), (-2, -4), (-7, -7)]\n",
    "starting_points = [(3, 3), (2, 2), (-3, -3)]\n",
    "\n",
    "while True:\n",
    "    # Assign each point to the closest starting point\n",
    "    clusters = {point: [] for point in starting_points}\n",
    "    for point in points:\n",
    "        closest_point = min(starting_points, key=lambda x: euclidean_distance(x, point))\n",
    "        clusters[closest_point].append(point)\n",
    "    \n",
    "    for i, cluster in enumerate(clusters):\n",
    "        print(f\"Cluster {i}: {cluster} has {len(clusters[cluster])} points: {clusters[cluster]}\")\n",
    "\n",
    "    # Calculate the new centroid for each cluster\n",
    "    for i, centroid in enumerate(clusters):\n",
    "        x = sum(point[0] for point in clusters[centroid]) / len(clusters[centroid])\n",
    "        y = sum(point[1] for point in clusters[centroid]) / len(clusters[centroid])\n",
    "        print(f\"New centroid for cluster {centroid} is ({x}, {y})\")    "
   ]
  }
 ],
 "metadata": {
  "kernelspec": {
   "display_name": "Python 3",
   "language": "python",
   "name": "python3"
  },
  "language_info": {
   "codemirror_mode": {
    "name": "ipython",
    "version": 3
   },
   "file_extension": ".py",
   "mimetype": "text/x-python",
   "name": "python",
   "nbconvert_exporter": "python",
   "pygments_lexer": "ipython3",
   "version": "3.10.13"
  }
 },
 "nbformat": 4,
 "nbformat_minor": 2
}
