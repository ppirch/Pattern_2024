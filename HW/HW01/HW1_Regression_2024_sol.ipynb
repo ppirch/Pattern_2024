{
 "cells": [
  {
   "cell_type": "markdown",
   "metadata": {},
   "source": [
    "## Homework 1 Clustering and Regression"
   ]
  },
  {
   "cell_type": "markdown",
   "metadata": {},
   "source": [
    "### Instructions"
   ]
  },
  {
   "cell_type": "markdown",
   "metadata": {},
   "source": [
    "Answer the questions and upload your answers to courseville. Answers can be in Thai or English. Answers can be either typed or handwrittern and scanned. the assignment is diveided into several small tasks. Each task is weighted equally(marked with **T**). For this assignment, each task is awared 1 points. There are also optional taks(marked with **OT**) counts for 0.5 points each."
   ]
  },
  {
   "cell_type": "markdown",
   "metadata": {},
   "source": [
    "### Metrics"
   ]
  },
  {
   "cell_type": "markdown",
   "metadata": {},
   "source": [
    "In a population where the amount of cats is equal to the amount of dogs. Considering the following classification results from a classifier."
   ]
  },
  {
   "cell_type": "markdown",
   "metadata": {},
   "source": [
    "| Model A    | Predicted dog | Predicted cat |\n",
    "|------------|---------------|---------------|\n",
    "| Actual dog | 30            | 20            |\n",
    "| Actual cat | 10            | 40            |"
   ]
  },
  {
   "cell_type": "markdown",
   "metadata": {},
   "source": [
    "**T1.** What is the accuracy of Model A?"
   ]
  },
  {
   "cell_type": "code",
   "execution_count": 1,
   "metadata": {},
   "outputs": [
    {
     "name": "stdout",
     "output_type": "stream",
     "text": [
      "Accuracy of Model A is 0.7\n"
     ]
    }
   ],
   "source": [
    "correct_predictions = 30 + 40\n",
    "total_predictions = 30 + 20 + 10 + 40\n",
    "accuracy = correct_predictions / total_predictions\n",
    "print(f\"Accuracy of Model A is {accuracy}\")"
   ]
  },
  {
   "cell_type": "markdown",
   "metadata": {},
   "source": [
    "**T2.** Consider cats as 'class 1' (positive) and dogs as 'class 0' (negative) calculate the precision, recall, and F1."
   ]
  },
  {
   "cell_type": "code",
   "execution_count": 2,
   "metadata": {},
   "outputs": [
    {
     "name": "stdout",
     "output_type": "stream",
     "text": [
      "Precision of Model A is 0.8\n",
      "Recall of Model A is 0.6666666666666666\n",
      "F1 of Model A is 0.7272727272727272\n"
     ]
    }
   ],
   "source": [
    "tp = 40\n",
    "fp = 10\n",
    "fn = 20\n",
    "tn = 30\n",
    "\n",
    "precision = tp / (tp + fp)\n",
    "recall = tp / (tp + fn)\n",
    "f1 = 2 * (precision * recall) / (precision + recall)\n",
    "\n",
    "print(f\"Precision of Model A is {precision}\")\n",
    "print(f\"Recall of Model A is {recall}\")\n",
    "print(f\"F1 of Model A is {f1}\")"
   ]
  },
  {
   "cell_type": "markdown",
   "metadata": {},
   "source": [
    "**T3.** Consider class cat as ‘class 0’ and class dog as ‘class 1’, calculate the\n",
    "precision, recall, and F1.\n",
    "\n",
    "It is important to specify the ‘positive’ class when you calculate precision,\n",
    "recall, and F1. If there are more than two classes, it is usually done in a one-\n",
    "versus-all setting where one class is considered positive and the rest of the classes\n",
    "are considered negative."
   ]
  },
  {
   "cell_type": "code",
   "execution_count": 3,
   "metadata": {},
   "outputs": [
    {
     "name": "stdout",
     "output_type": "stream",
     "text": [
      "Precision of Model A is 0.6\n",
      "Recall of Model A is 0.75\n",
      "F1 of Model A is 0.6666666666666665\n"
     ]
    }
   ],
   "source": [
    "tp = 30\n",
    "fp = 20\n",
    "fn = 10\n",
    "tn = 40\n",
    "\n",
    "precision = tp / (tp + fp)\n",
    "recall = tp / (tp + fn)\n",
    "f1 = 2 * (precision * recall) / (precision + recall)\n",
    "\n",
    "print(f\"Precision of Model A is {precision}\")\n",
    "print(f\"Recall of Model A is {recall}\")\n",
    "print(f\"F1 of Model A is {f1}\")"
   ]
  },
  {
   "cell_type": "markdown",
   "metadata": {},
   "source": [
    "**T4.** Now consider a lopsided population where there are 80% cats. What is\n",
    "the accuracy of Model A? Using dog as the positive class, what is the precision,\n",
    "recall, and F1? Explain how and why these numbers change (or does not change)\n",
    "from the previous questions"
   ]
  },
  {
   "cell_type": "markdown",
   "metadata": {},
   "source": [
    "**TODO**"
   ]
  },
  {
   "cell_type": "markdown",
   "metadata": {},
   "source": [
    "**OT1.** Consider the equations for accuracy and F1\n",
    "\n",
    "$$Accuracy = \\frac{TP+TN}{TP+TN+FP+FN}$$\n",
    "$$F1 = \\frac{2TP}{2TP+FP+FN}$$\n",
    "\n",
    "When will accuracy be equal, greater, or less than F1?"
   ]
  },
  {
   "cell_type": "markdown",
   "metadata": {},
   "source": [
    "equal: When the number of True positive (TP) and True negative (TN) are equal TP = TN\n",
    "\n",
    "greater: When number of True negative (TN) greater than True positive (TP) TN > TP\n",
    "\n",
    "less: When number of True negative (TN) less than True positive (TP) TN < TP"
   ]
  },
  {
   "cell_type": "markdown",
   "metadata": {},
   "source": [
    "### Hello Clustering"
   ]
  },
  {
   "cell_type": "markdown",
   "metadata": {},
   "source": [
    "Recall from lecture that K-means has to main steps: the points assignment step, and the mean update step. After the initialization of the centroids, we assign each data point to a centroid. Then, centroids are updated by re-estimating the means.\n",
    "\n",
    "Concretely, if we are given N data points, $x_1, x_2, ..., x_N$, and we would like to from K clusters. We do the following;\n",
    "\n",
    "1. **Initialization**: Pick K random data points as K centroid locations $c_1, c_2, ..., c_K$.\n",
    "2. **Assign:** For each data point k, find the closest centroid. Assign that data point to the centroid. The distance used is typically Euclidean distance.\n",
    "3. **Updater:** For each centroid, calculate the mean from the data points assigned to it.\n",
    "4. **Repeat:** repeat step 2 and 3 until the centroids stop changing (convergence)."
   ]
  },
  {
   "cell_type": "markdown",
   "metadata": {},
   "source": [
    "Given the following data points in x-y coordinates (2 dimensional)"
   ]
  },
  {
   "cell_type": "markdown",
   "metadata": {},
   "source": [
    "|x  |y  |\n",
    "|---|---|\n",
    "|1  |2  |\n",
    "|3  |3  |\n",
    "|2  |2  |\n",
    "|8  |8  |\n",
    "|6  |6  |\n",
    "|7  |7  |\n",
    "|-3 |-3 |\n",
    "|-2 |-4 |\n",
    "|-7 |-7 |"
   ]
  },
  {
   "cell_type": "markdown",
   "metadata": {},
   "source": [
    "**T5.** If the starting points are (3,3), (2,2), and (-3, -3). Describe each assign and update step. What are the points assigned? What are the updated centroids? You may do the calculation by hand or write a program to do it."
   ]
  },
  {
   "cell_type": "code",
   "execution_count": 31,
   "metadata": {},
   "outputs": [
    {
     "name": "stdout",
     "output_type": "stream",
     "text": [
      "Iteration 1:\n",
      "Cluster 0: (3, 3) has 4 points: [(3, 3), (8, 8), (6, 6), (7, 7)]\n",
      "Cluster 1: (2, 2) has 2 points: [(1, 2), (2, 2)]\n",
      "Cluster 2: (-3, -3) has 3 points: [(-3, -3), (-2, -4), (-7, -7)]\n",
      "New centroid for cluster (3, 3) is (6.0, 6.0)\n",
      "New centroid for cluster (2, 2) is (1.5, 2.0)\n",
      "New centroid for cluster (-3, -3) is (-4.0, -4.666666666666667)\n",
      "\n",
      "Iteration 2:\n",
      "Cluster 0: (6.0, 6.0) has 3 points: [(8, 8), (6, 6), (7, 7)]\n",
      "Cluster 1: (1.5, 2.0) has 3 points: [(1, 2), (3, 3), (2, 2)]\n",
      "Cluster 2: (-4.0, -4.666666666666667) has 3 points: [(-3, -3), (-2, -4), (-7, -7)]\n",
      "New centroid for cluster (6.0, 6.0) is (7.0, 7.0)\n",
      "New centroid for cluster (1.5, 2.0) is (2.0, 2.3333333333333335)\n",
      "New centroid for cluster (-4.0, -4.666666666666667) is (-4.0, -4.666666666666667)\n",
      "\n",
      "Iteration 3:\n",
      "Cluster 0: (7.0, 7.0) has 3 points: [(8, 8), (6, 6), (7, 7)]\n",
      "Cluster 1: (2.0, 2.3333333333333335) has 3 points: [(1, 2), (3, 3), (2, 2)]\n",
      "Cluster 2: (-4.0, -4.666666666666667) has 3 points: [(-3, -3), (-2, -4), (-7, -7)]\n",
      "New centroid for cluster (7.0, 7.0) is (7.0, 7.0)\n",
      "New centroid for cluster (2.0, 2.3333333333333335) is (2.0, 2.3333333333333335)\n",
      "New centroid for cluster (-4.0, -4.666666666666667) is (-4.0, -4.666666666666667)\n",
      "Converged\n"
     ]
    }
   ],
   "source": [
    "def euclidean_distance(point1, point2):\n",
    "    x1, y1 = point1\n",
    "    x2, y2 = point2\n",
    "    return ((x2 - x1) ** 2 + (y2 - y1) ** 2) ** 0.5\n",
    "\n",
    "points = [(1, 2), (3, 3), (2, 2), (8, 8), (6, 6), (7, 7), (-3, -3), (-2, -4), (-7, -7)]\n",
    "previous_centroids = [(3, 3), (2, 2), (-3, -3)]\n",
    "centroids = [(3, 3), (2, 2), (-3, -3)]\n",
    "iterations = 0\n",
    "\n",
    "while True:\n",
    "    iterations += 1\n",
    "    print(f\"Iteration {iterations}:\")\n",
    "\n",
    "    # Assign each point to the closest starting point\n",
    "    clusters = {point: [] for point in centroids}\n",
    "    for point in points:\n",
    "        closest_point = min(centroids, key=lambda x: euclidean_distance(x, point))\n",
    "        clusters[closest_point].append(point)\n",
    "    \n",
    "    for i, cluster in enumerate(clusters):\n",
    "        print(f\"Cluster {i}: {cluster} has {len(clusters[cluster])} points: {clusters[cluster]}\")\n",
    "\n",
    "    # Update the new centroid for each cluster\n",
    "    for i, centroid in enumerate(clusters):\n",
    "        x = sum(point[0] for point in clusters[centroid]) / len(clusters[centroid])\n",
    "        y = sum(point[1] for point in clusters[centroid]) / len(clusters[centroid])\n",
    "        print(f\"New centroid for cluster {centroid} is ({x}, {y})\")\n",
    "        previous_centroids[i] = centroids[i]\n",
    "        centroids[i] = (x, y)\n",
    "    \n",
    "    # Check if the centroids have changed\n",
    "    if previous_centroids == centroids:\n",
    "        print(\"Converged\")\n",
    "        break\n",
    "    print(\"\")"
   ]
  },
  {
   "cell_type": "markdown",
   "metadata": {},
   "source": [
    "**T6.** If the starting points are (-3,-3), (2,2), and (-7, -7). what happens?"
   ]
  },
  {
   "cell_type": "code",
   "execution_count": 32,
   "metadata": {},
   "outputs": [
    {
     "name": "stdout",
     "output_type": "stream",
     "text": [
      "Iteration 1:\n",
      "Cluster 0: (-3, -3) has 2 points: [(-3, -3), (-2, -4)]\n",
      "Cluster 1: (2, 2) has 6 points: [(1, 2), (3, 3), (2, 2), (8, 8), (6, 6), (7, 7)]\n",
      "Cluster 2: (-7, -7) has 1 points: [(-7, -7)]\n",
      "New centroid for cluster (-3, -3) is (-2.5, -3.5)\n",
      "New centroid for cluster (2, 2) is (4.5, 4.666666666666667)\n",
      "New centroid for cluster (-7, -7) is (-7.0, -7.0)\n",
      "\n",
      "Iteration 2:\n",
      "Cluster 0: (-2.5, -3.5) has 2 points: [(-3, -3), (-2, -4)]\n",
      "Cluster 1: (4.5, 4.666666666666667) has 6 points: [(1, 2), (3, 3), (2, 2), (8, 8), (6, 6), (7, 7)]\n",
      "Cluster 2: (-7.0, -7.0) has 1 points: [(-7, -7)]\n",
      "New centroid for cluster (-2.5, -3.5) is (-2.5, -3.5)\n",
      "New centroid for cluster (4.5, 4.666666666666667) is (4.5, 4.666666666666667)\n",
      "New centroid for cluster (-7.0, -7.0) is (-7.0, -7.0)\n",
      "Converged\n"
     ]
    }
   ],
   "source": [
    "def euclidean_distance(point1, point2):\n",
    "    x1, y1 = point1\n",
    "    x2, y2 = point2\n",
    "    return ((x2 - x1) ** 2 + (y2 - y1) ** 2) ** 0.5\n",
    "\n",
    "points = [(1, 2), (3, 3), (2, 2), (8, 8), (6, 6), (7, 7), (-3, -3), (-2, -4), (-7, -7)]\n",
    "previous_centroids = [(-3, -3), (2, 2), (-7, -7)]\n",
    "centroids = [(-3, -3), (2, 2), (-7, -7)]\n",
    "iterations = 0\n",
    "\n",
    "while True:\n",
    "    iterations += 1\n",
    "    print(f\"Iteration {iterations}:\")\n",
    "\n",
    "    # Assign each point to the closest starting point\n",
    "    clusters = {point: [] for point in centroids}\n",
    "    for point in points:\n",
    "        closest_point = min(centroids, key=lambda x: euclidean_distance(x, point))\n",
    "        clusters[closest_point].append(point)\n",
    "    \n",
    "    for i, cluster in enumerate(clusters):\n",
    "        print(f\"Cluster {i}: {cluster} has {len(clusters[cluster])} points: {clusters[cluster]}\")\n",
    "\n",
    "    # Update the new centroid for each cluster\n",
    "    for i, centroid in enumerate(clusters):\n",
    "        x = sum(point[0] for point in clusters[centroid]) / len(clusters[centroid])\n",
    "        y = sum(point[1] for point in clusters[centroid]) / len(clusters[centroid])\n",
    "        print(f\"New centroid for cluster {centroid} is ({x}, {y})\")\n",
    "        previous_centroids[i] = centroids[i]\n",
    "        centroids[i] = (x, y)\n",
    "    \n",
    "    # Check if the centroids have changed\n",
    "    if previous_centroids == centroids:\n",
    "        print(\"Converged\")\n",
    "        break\n",
    "    print(\"\")"
   ]
  },
  {
   "cell_type": "markdown",
   "metadata": {},
   "source": [
    "TODO"
   ]
  },
  {
   "cell_type": "markdown",
   "metadata": {},
   "source": [
    "**T7.** Between the two starting set of points in the previous two questions,\n",
    "which one do you think is better? How would you measure the ‘goodness’ quality\n",
    "of a set of starting points?\n",
    "\n",
    "In general, it is important to try different sets of starting points when doing\n",
    "k-means."
   ]
  },
  {
   "cell_type": "markdown",
   "metadata": {},
   "source": []
  },
  {
   "cell_type": "markdown",
   "metadata": {},
   "source": [
    "**OT2.** What would be the best K for this question? Describe your reasoning."
   ]
  },
  {
   "cell_type": "markdown",
   "metadata": {},
   "source": []
  },
  {
   "cell_type": "markdown",
   "metadata": {},
   "source": [
    "### My heart will go on"
   ]
  },
  {
   "cell_type": "markdown",
   "metadata": {},
   "source": [
    "In this part of the exercise we will work on the Titanic dataset provided by\n",
    "Kaggle. The Titanic dataset contains information of the passengers boarding\n",
    "the Titanic on its final voyage. We will work on predicting whether a given\n",
    "passenger will survive the trip.\n",
    "\n",
    "Let’s launch Jupyter and start coding!\n",
    "\n",
    "We start by importing the data using Pandas"
   ]
  },
  {
   "cell_type": "code",
   "execution_count": 92,
   "metadata": {},
   "outputs": [],
   "source": [
    "import pandas as pd\n",
    "import numpy as np"
   ]
  },
  {
   "cell_type": "code",
   "execution_count": 93,
   "metadata": {},
   "outputs": [],
   "source": [
    "train_url = \"http://s3.amazonaws.com/assets.datacamp.com/course/Kaggle/train.csv\"\n",
    "train = pd.read_csv(train_url) #training set\n",
    "\n",
    "test_url = \"http://s3.amazonaws.com/assets.datacamp.com/course/Kaggle/test.csv\"\n",
    "test = pd.read_csv(test_url) #test set"
   ]
  },
  {
   "cell_type": "markdown",
   "metadata": {},
   "source": [
    "Both train and test are dataframes. Use the function train.head() and\n",
    "train.tail() to explore the data. What do you see?"
   ]
  },
  {
   "cell_type": "code",
   "execution_count": 94,
   "metadata": {},
   "outputs": [
    {
     "data": {
      "text/html": [
       "<div>\n",
       "<style scoped>\n",
       "    .dataframe tbody tr th:only-of-type {\n",
       "        vertical-align: middle;\n",
       "    }\n",
       "\n",
       "    .dataframe tbody tr th {\n",
       "        vertical-align: top;\n",
       "    }\n",
       "\n",
       "    .dataframe thead th {\n",
       "        text-align: right;\n",
       "    }\n",
       "</style>\n",
       "<table border=\"1\" class=\"dataframe\">\n",
       "  <thead>\n",
       "    <tr style=\"text-align: right;\">\n",
       "      <th></th>\n",
       "      <th>PassengerId</th>\n",
       "      <th>Survived</th>\n",
       "      <th>Pclass</th>\n",
       "      <th>Name</th>\n",
       "      <th>Sex</th>\n",
       "      <th>Age</th>\n",
       "      <th>SibSp</th>\n",
       "      <th>Parch</th>\n",
       "      <th>Ticket</th>\n",
       "      <th>Fare</th>\n",
       "      <th>Cabin</th>\n",
       "      <th>Embarked</th>\n",
       "    </tr>\n",
       "  </thead>\n",
       "  <tbody>\n",
       "    <tr>\n",
       "      <th>0</th>\n",
       "      <td>1</td>\n",
       "      <td>0</td>\n",
       "      <td>3</td>\n",
       "      <td>Braund, Mr. Owen Harris</td>\n",
       "      <td>male</td>\n",
       "      <td>22.0</td>\n",
       "      <td>1</td>\n",
       "      <td>0</td>\n",
       "      <td>A/5 21171</td>\n",
       "      <td>7.2500</td>\n",
       "      <td>NaN</td>\n",
       "      <td>S</td>\n",
       "    </tr>\n",
       "    <tr>\n",
       "      <th>1</th>\n",
       "      <td>2</td>\n",
       "      <td>1</td>\n",
       "      <td>1</td>\n",
       "      <td>Cumings, Mrs. John Bradley (Florence Briggs Th...</td>\n",
       "      <td>female</td>\n",
       "      <td>38.0</td>\n",
       "      <td>1</td>\n",
       "      <td>0</td>\n",
       "      <td>PC 17599</td>\n",
       "      <td>71.2833</td>\n",
       "      <td>C85</td>\n",
       "      <td>C</td>\n",
       "    </tr>\n",
       "    <tr>\n",
       "      <th>2</th>\n",
       "      <td>3</td>\n",
       "      <td>1</td>\n",
       "      <td>3</td>\n",
       "      <td>Heikkinen, Miss. Laina</td>\n",
       "      <td>female</td>\n",
       "      <td>26.0</td>\n",
       "      <td>0</td>\n",
       "      <td>0</td>\n",
       "      <td>STON/O2. 3101282</td>\n",
       "      <td>7.9250</td>\n",
       "      <td>NaN</td>\n",
       "      <td>S</td>\n",
       "    </tr>\n",
       "    <tr>\n",
       "      <th>3</th>\n",
       "      <td>4</td>\n",
       "      <td>1</td>\n",
       "      <td>1</td>\n",
       "      <td>Futrelle, Mrs. Jacques Heath (Lily May Peel)</td>\n",
       "      <td>female</td>\n",
       "      <td>35.0</td>\n",
       "      <td>1</td>\n",
       "      <td>0</td>\n",
       "      <td>113803</td>\n",
       "      <td>53.1000</td>\n",
       "      <td>C123</td>\n",
       "      <td>S</td>\n",
       "    </tr>\n",
       "    <tr>\n",
       "      <th>4</th>\n",
       "      <td>5</td>\n",
       "      <td>0</td>\n",
       "      <td>3</td>\n",
       "      <td>Allen, Mr. William Henry</td>\n",
       "      <td>male</td>\n",
       "      <td>35.0</td>\n",
       "      <td>0</td>\n",
       "      <td>0</td>\n",
       "      <td>373450</td>\n",
       "      <td>8.0500</td>\n",
       "      <td>NaN</td>\n",
       "      <td>S</td>\n",
       "    </tr>\n",
       "  </tbody>\n",
       "</table>\n",
       "</div>"
      ],
      "text/plain": [
       "   PassengerId  Survived  Pclass  \\\n",
       "0            1         0       3   \n",
       "1            2         1       1   \n",
       "2            3         1       3   \n",
       "3            4         1       1   \n",
       "4            5         0       3   \n",
       "\n",
       "                                                Name     Sex   Age  SibSp  \\\n",
       "0                            Braund, Mr. Owen Harris    male  22.0      1   \n",
       "1  Cumings, Mrs. John Bradley (Florence Briggs Th...  female  38.0      1   \n",
       "2                             Heikkinen, Miss. Laina  female  26.0      0   \n",
       "3       Futrelle, Mrs. Jacques Heath (Lily May Peel)  female  35.0      1   \n",
       "4                           Allen, Mr. William Henry    male  35.0      0   \n",
       "\n",
       "   Parch            Ticket     Fare Cabin Embarked  \n",
       "0      0         A/5 21171   7.2500   NaN        S  \n",
       "1      0          PC 17599  71.2833   C85        C  \n",
       "2      0  STON/O2. 3101282   7.9250   NaN        S  \n",
       "3      0            113803  53.1000  C123        S  \n",
       "4      0            373450   8.0500   NaN        S  "
      ]
     },
     "execution_count": 94,
     "metadata": {},
     "output_type": "execute_result"
    }
   ],
   "source": [
    "train.head()"
   ]
  },
  {
   "cell_type": "code",
   "execution_count": 95,
   "metadata": {},
   "outputs": [
    {
     "data": {
      "text/html": [
       "<div>\n",
       "<style scoped>\n",
       "    .dataframe tbody tr th:only-of-type {\n",
       "        vertical-align: middle;\n",
       "    }\n",
       "\n",
       "    .dataframe tbody tr th {\n",
       "        vertical-align: top;\n",
       "    }\n",
       "\n",
       "    .dataframe thead th {\n",
       "        text-align: right;\n",
       "    }\n",
       "</style>\n",
       "<table border=\"1\" class=\"dataframe\">\n",
       "  <thead>\n",
       "    <tr style=\"text-align: right;\">\n",
       "      <th></th>\n",
       "      <th>PassengerId</th>\n",
       "      <th>Survived</th>\n",
       "      <th>Pclass</th>\n",
       "      <th>Name</th>\n",
       "      <th>Sex</th>\n",
       "      <th>Age</th>\n",
       "      <th>SibSp</th>\n",
       "      <th>Parch</th>\n",
       "      <th>Ticket</th>\n",
       "      <th>Fare</th>\n",
       "      <th>Cabin</th>\n",
       "      <th>Embarked</th>\n",
       "    </tr>\n",
       "  </thead>\n",
       "  <tbody>\n",
       "    <tr>\n",
       "      <th>886</th>\n",
       "      <td>887</td>\n",
       "      <td>0</td>\n",
       "      <td>2</td>\n",
       "      <td>Montvila, Rev. Juozas</td>\n",
       "      <td>male</td>\n",
       "      <td>27.0</td>\n",
       "      <td>0</td>\n",
       "      <td>0</td>\n",
       "      <td>211536</td>\n",
       "      <td>13.00</td>\n",
       "      <td>NaN</td>\n",
       "      <td>S</td>\n",
       "    </tr>\n",
       "    <tr>\n",
       "      <th>887</th>\n",
       "      <td>888</td>\n",
       "      <td>1</td>\n",
       "      <td>1</td>\n",
       "      <td>Graham, Miss. Margaret Edith</td>\n",
       "      <td>female</td>\n",
       "      <td>19.0</td>\n",
       "      <td>0</td>\n",
       "      <td>0</td>\n",
       "      <td>112053</td>\n",
       "      <td>30.00</td>\n",
       "      <td>B42</td>\n",
       "      <td>S</td>\n",
       "    </tr>\n",
       "    <tr>\n",
       "      <th>888</th>\n",
       "      <td>889</td>\n",
       "      <td>0</td>\n",
       "      <td>3</td>\n",
       "      <td>Johnston, Miss. Catherine Helen \"Carrie\"</td>\n",
       "      <td>female</td>\n",
       "      <td>NaN</td>\n",
       "      <td>1</td>\n",
       "      <td>2</td>\n",
       "      <td>W./C. 6607</td>\n",
       "      <td>23.45</td>\n",
       "      <td>NaN</td>\n",
       "      <td>S</td>\n",
       "    </tr>\n",
       "    <tr>\n",
       "      <th>889</th>\n",
       "      <td>890</td>\n",
       "      <td>1</td>\n",
       "      <td>1</td>\n",
       "      <td>Behr, Mr. Karl Howell</td>\n",
       "      <td>male</td>\n",
       "      <td>26.0</td>\n",
       "      <td>0</td>\n",
       "      <td>0</td>\n",
       "      <td>111369</td>\n",
       "      <td>30.00</td>\n",
       "      <td>C148</td>\n",
       "      <td>C</td>\n",
       "    </tr>\n",
       "    <tr>\n",
       "      <th>890</th>\n",
       "      <td>891</td>\n",
       "      <td>0</td>\n",
       "      <td>3</td>\n",
       "      <td>Dooley, Mr. Patrick</td>\n",
       "      <td>male</td>\n",
       "      <td>32.0</td>\n",
       "      <td>0</td>\n",
       "      <td>0</td>\n",
       "      <td>370376</td>\n",
       "      <td>7.75</td>\n",
       "      <td>NaN</td>\n",
       "      <td>Q</td>\n",
       "    </tr>\n",
       "  </tbody>\n",
       "</table>\n",
       "</div>"
      ],
      "text/plain": [
       "     PassengerId  Survived  Pclass                                      Name  \\\n",
       "886          887         0       2                     Montvila, Rev. Juozas   \n",
       "887          888         1       1              Graham, Miss. Margaret Edith   \n",
       "888          889         0       3  Johnston, Miss. Catherine Helen \"Carrie\"   \n",
       "889          890         1       1                     Behr, Mr. Karl Howell   \n",
       "890          891         0       3                       Dooley, Mr. Patrick   \n",
       "\n",
       "        Sex   Age  SibSp  Parch      Ticket   Fare Cabin Embarked  \n",
       "886    male  27.0      0      0      211536  13.00   NaN        S  \n",
       "887  female  19.0      0      0      112053  30.00   B42        S  \n",
       "888  female   NaN      1      2  W./C. 6607  23.45   NaN        S  \n",
       "889    male  26.0      0      0      111369  30.00  C148        C  \n",
       "890    male  32.0      0      0      370376   7.75   NaN        Q  "
      ]
     },
     "execution_count": 95,
     "metadata": {},
     "output_type": "execute_result"
    }
   ],
   "source": [
    "train.tail()"
   ]
  },
  {
   "cell_type": "markdown",
   "metadata": {},
   "source": [
    "Use the function describe() to get a better understanding of the data.\n",
    "You can read the meaning of the data fields at https://www.kaggle.com/c/titanic/data"
   ]
  },
  {
   "cell_type": "code",
   "execution_count": 96,
   "metadata": {},
   "outputs": [
    {
     "data": {
      "text/html": [
       "<div>\n",
       "<style scoped>\n",
       "    .dataframe tbody tr th:only-of-type {\n",
       "        vertical-align: middle;\n",
       "    }\n",
       "\n",
       "    .dataframe tbody tr th {\n",
       "        vertical-align: top;\n",
       "    }\n",
       "\n",
       "    .dataframe thead th {\n",
       "        text-align: right;\n",
       "    }\n",
       "</style>\n",
       "<table border=\"1\" class=\"dataframe\">\n",
       "  <thead>\n",
       "    <tr style=\"text-align: right;\">\n",
       "      <th></th>\n",
       "      <th>PassengerId</th>\n",
       "      <th>Survived</th>\n",
       "      <th>Pclass</th>\n",
       "      <th>Age</th>\n",
       "      <th>SibSp</th>\n",
       "      <th>Parch</th>\n",
       "      <th>Fare</th>\n",
       "    </tr>\n",
       "  </thead>\n",
       "  <tbody>\n",
       "    <tr>\n",
       "      <th>count</th>\n",
       "      <td>891.000000</td>\n",
       "      <td>891.000000</td>\n",
       "      <td>891.000000</td>\n",
       "      <td>714.000000</td>\n",
       "      <td>891.000000</td>\n",
       "      <td>891.000000</td>\n",
       "      <td>891.000000</td>\n",
       "    </tr>\n",
       "    <tr>\n",
       "      <th>mean</th>\n",
       "      <td>446.000000</td>\n",
       "      <td>0.383838</td>\n",
       "      <td>2.308642</td>\n",
       "      <td>29.699118</td>\n",
       "      <td>0.523008</td>\n",
       "      <td>0.381594</td>\n",
       "      <td>32.204208</td>\n",
       "    </tr>\n",
       "    <tr>\n",
       "      <th>std</th>\n",
       "      <td>257.353842</td>\n",
       "      <td>0.486592</td>\n",
       "      <td>0.836071</td>\n",
       "      <td>14.526497</td>\n",
       "      <td>1.102743</td>\n",
       "      <td>0.806057</td>\n",
       "      <td>49.693429</td>\n",
       "    </tr>\n",
       "    <tr>\n",
       "      <th>min</th>\n",
       "      <td>1.000000</td>\n",
       "      <td>0.000000</td>\n",
       "      <td>1.000000</td>\n",
       "      <td>0.420000</td>\n",
       "      <td>0.000000</td>\n",
       "      <td>0.000000</td>\n",
       "      <td>0.000000</td>\n",
       "    </tr>\n",
       "    <tr>\n",
       "      <th>25%</th>\n",
       "      <td>223.500000</td>\n",
       "      <td>0.000000</td>\n",
       "      <td>2.000000</td>\n",
       "      <td>20.125000</td>\n",
       "      <td>0.000000</td>\n",
       "      <td>0.000000</td>\n",
       "      <td>7.910400</td>\n",
       "    </tr>\n",
       "    <tr>\n",
       "      <th>50%</th>\n",
       "      <td>446.000000</td>\n",
       "      <td>0.000000</td>\n",
       "      <td>3.000000</td>\n",
       "      <td>28.000000</td>\n",
       "      <td>0.000000</td>\n",
       "      <td>0.000000</td>\n",
       "      <td>14.454200</td>\n",
       "    </tr>\n",
       "    <tr>\n",
       "      <th>75%</th>\n",
       "      <td>668.500000</td>\n",
       "      <td>1.000000</td>\n",
       "      <td>3.000000</td>\n",
       "      <td>38.000000</td>\n",
       "      <td>1.000000</td>\n",
       "      <td>0.000000</td>\n",
       "      <td>31.000000</td>\n",
       "    </tr>\n",
       "    <tr>\n",
       "      <th>max</th>\n",
       "      <td>891.000000</td>\n",
       "      <td>1.000000</td>\n",
       "      <td>3.000000</td>\n",
       "      <td>80.000000</td>\n",
       "      <td>8.000000</td>\n",
       "      <td>6.000000</td>\n",
       "      <td>512.329200</td>\n",
       "    </tr>\n",
       "  </tbody>\n",
       "</table>\n",
       "</div>"
      ],
      "text/plain": [
       "       PassengerId    Survived      Pclass         Age       SibSp  \\\n",
       "count   891.000000  891.000000  891.000000  714.000000  891.000000   \n",
       "mean    446.000000    0.383838    2.308642   29.699118    0.523008   \n",
       "std     257.353842    0.486592    0.836071   14.526497    1.102743   \n",
       "min       1.000000    0.000000    1.000000    0.420000    0.000000   \n",
       "25%     223.500000    0.000000    2.000000   20.125000    0.000000   \n",
       "50%     446.000000    0.000000    3.000000   28.000000    0.000000   \n",
       "75%     668.500000    1.000000    3.000000   38.000000    1.000000   \n",
       "max     891.000000    1.000000    3.000000   80.000000    8.000000   \n",
       "\n",
       "            Parch        Fare  \n",
       "count  891.000000  891.000000  \n",
       "mean     0.381594   32.204208  \n",
       "std      0.806057   49.693429  \n",
       "min      0.000000    0.000000  \n",
       "25%      0.000000    7.910400  \n",
       "50%      0.000000   14.454200  \n",
       "75%      0.000000   31.000000  \n",
       "max      6.000000  512.329200  "
      ]
     },
     "execution_count": 96,
     "metadata": {},
     "output_type": "execute_result"
    }
   ],
   "source": [
    "train.describe()"
   ]
  },
  {
   "cell_type": "markdown",
   "metadata": {},
   "source": [
    "Looking at the data, you will notice a lot of missing values. For example,\n",
    "some age is NaN. This is normal for real world data to have some missing values.\n",
    "There are several ways to handle missing values. The simplest is to throw away\n",
    "any rows that have missing values. However, this usually reduce the amount\n",
    "of training data you have. Another method is to guess what the missing value\n",
    "should be. The simplest guess is to use the Median or Mode of the data. For\n",
    "this exercise we will proceed with this"
   ]
  },
  {
   "cell_type": "markdown",
   "metadata": {},
   "source": [
    "**T8.** What is the median age of the training set? You can easily modify\n",
    "the age in the dataframe by\n",
    "\n",
    "`train[\"Age\"] = train[\"Age\"].fillna(train[\"Age\"].median())`\n",
    "\n",
    "Note that you need to modify the code above a bit to fill with mode() because\n",
    "mode() returns a series rather than a single value."
   ]
  },
  {
   "cell_type": "code",
   "execution_count": 97,
   "metadata": {},
   "outputs": [
    {
     "name": "stdout",
     "output_type": "stream",
     "text": [
      "The median age of the training set before fill null is 28.0\n",
      "The median age of the training set after fill null is 24.0\n"
     ]
    }
   ],
   "source": [
    "print(\"The median age of the training set before fill null is\", train[\"Age\"].median())\n",
    "\n",
    "# Fill missing values with the mode\n",
    "train[\"Age\"] = train[\"Age\"].fillna(train[\"Age\"].mode()[0])\n",
    "print(\"The median age of the training set after fill null is\", train[\"Age\"].median())"
   ]
  },
  {
   "cell_type": "markdown",
   "metadata": {},
   "source": [
    "**T9.** Some fields like ‘Embarked’ are categorical. They need to be converted\n",
    "to numbers first. We will represent S with 0, C with 1, and Q with 2. What is\n",
    "the mode of Embarked? Fill the missing values with the mode. You can set the\n",
    "value of Embarked easily with the following command.\n",
    "\n",
    "`train.loc[train[\"Embarked\"] == \"S\", \"Embarked\"] = 0`"
   ]
  },
  {
   "cell_type": "code",
   "execution_count": 98,
   "metadata": {},
   "outputs": [
    {
     "name": "stdout",
     "output_type": "stream",
     "text": [
      "The mode Embarked of the training set is S\n"
     ]
    }
   ],
   "source": [
    "print(\"The mode Embarked of the training set is\", train[\"Embarked\"].mode()[0])\n",
    "\n",
    "# Fill missing values with the mode\n",
    "train[\"Embarked\"] = train[\"Embarked\"].fillna(train[\"Embarked\"].mode()[0])\n",
    "\n",
    "# Convert the Embarked classes to number\n",
    "train.loc[train[\"Embarked\"] == \"S\", \"Embarked\"] = 0\n",
    "train.loc[train[\"Embarked\"] == \"C\", \"Embarked\"] = 1\n",
    "train.loc[train[\"Embarked\"] == \"Q\", \"Embarked\"] = 2"
   ]
  },
  {
   "cell_type": "markdown",
   "metadata": {},
   "source": [
    "Do the same for Sex."
   ]
  },
  {
   "cell_type": "code",
   "execution_count": 99,
   "metadata": {},
   "outputs": [
    {
     "name": "stdout",
     "output_type": "stream",
     "text": [
      "The mode Sex of the training set is male\n"
     ]
    }
   ],
   "source": [
    "print(\"The mode Sex of the training set is\", train[\"Sex\"].mode()[0])\n",
    "\n",
    "# Fill missing values with the mode\n",
    "train[\"Sex\"] = train[\"Sex\"].fillna(train[\"Sex\"].mode()[0])\n",
    "\n",
    "# Convert the Sex classes to number\n",
    "train.loc[train[\"Sex\"] == \"male\", \"Sex\"] = 0\n",
    "train.loc[train[\"Sex\"] == \"female\", \"Sex\"] = 1"
   ]
  },
  {
   "cell_type": "markdown",
   "metadata": {},
   "source": [
    "**T10.** Write a logistic regression classifier using gradient descent as learned\n",
    "in class. Use PClass, Sex, Age, and Embarked as input features. You can\n",
    "extract the features from Pandas to Numpy by\n",
    "\n",
    "`data = np.array(train[[\"PClass\",\"Sex\",\"Age\",\"Embarked\"]].values)`\n",
    "\n",
    "Check the datatype of each values in data, does it make sense? You can\n",
    "force the data to be of any datatype by using the command\n",
    "\n",
    "`data = np.array(train[[\"PClass\",\"Sex\",\"Age\",\"Embarked\"]].values, dtype = float)`\n",
    "\n",
    "When you evaluate the trained model on the test set, you will need to make\n",
    "a final decision. Since logistic regression outputs a score between 0 and 1, you\n",
    "will need to decide whether a score of 0.3 (or any other number) means the\n",
    "passenger survive or not. For now, we will say if the score is greater than or\n",
    "equal to 0.5, the passenger survives. If the score is lower than 0.5 the passenger\n",
    "will be dead. This process is often called ‘Thresholding.’ We will talk more\n",
    "about this process later in class.\n",
    "\n",
    "To evaluate your results, we will use Kaggle. Kaggle is a website that hosts\n",
    "many machine learning competitions. Many companies put up their data as a\n",
    "problem for anyone to participate. If you are looking for a task for your course\n",
    "project, Kaggle might be a good place to start. You will need to make sure that\n",
    "your output is in line with the submission requirements of Kaggle: a csv file\n",
    "with exactly 418 entries and two columns: PassengerId and Survived. Then, use the code provided to make a new data frame using DataFrame(), and create\n",
    "a csv file using to csv() method from Pandas.\n",
    "\n",
    "To submit your prediction, you must first sign-up for an account on Kaggle.\n",
    "com. Click participate to the competition at https://www.kaggle.com/c/titanic/ then submit your csv file for the score.\n",
    "The output file should have two columns: the passengerId and a 0,1 decision\n",
    "(0 for dead, 1 for survive). As shown below:\n",
    "\n",
    "PassengerId,Survived\\\n",
    "892,0\\\n",
    "893,1\\\n",
    "894,0"
   ]
  },
  {
   "cell_type": "code",
   "execution_count": 100,
   "metadata": {},
   "outputs": [],
   "source": [
    "data = np.array(train[[\"Pclass\",\"Sex\",\"Age\",\"Embarked\"]].values, dtype = float)\n",
    "labels = np.array(train[\"Survived\"].values, dtype = float)"
   ]
  },
  {
   "cell_type": "code",
   "execution_count": 102,
   "metadata": {},
   "outputs": [
    {
     "data": {
      "text/plain": [
       "array([0., 1., 1., 1., 0., 0., 0., 0., 1., 1., 1., 1., 0., 0., 0., 1., 0.,\n",
       "       1., 0., 1., 0., 1., 1., 1., 0., 1., 0., 0., 1., 0., 0., 1., 1., 0.,\n",
       "       0., 0., 1., 0., 0., 1., 0., 0., 0., 1., 1., 0., 0., 1., 0., 0., 0.,\n",
       "       0., 1., 1., 0., 1., 1., 0., 1., 0., 0., 1., 0., 0., 0., 1., 1., 0.,\n",
       "       1., 0., 0., 0., 0., 0., 1., 0., 0., 0., 1., 1., 0., 1., 1., 0., 1.,\n",
       "       1., 0., 0., 1., 0., 0., 0., 0., 0., 0., 0., 0., 1., 1., 0., 0., 0.,\n",
       "       0., 0., 0., 0., 1., 1., 0., 1., 0., 0., 0., 0., 0., 0., 0., 0., 0.,\n",
       "       0., 0., 0., 0., 1., 0., 1., 0., 1., 1., 0., 0., 0., 0., 1., 0., 0.,\n",
       "       1., 0., 0., 0., 0., 1., 1., 0., 0., 0., 1., 0., 0., 0., 0., 1., 0.,\n",
       "       0., 0., 0., 1., 0., 0., 0., 0., 1., 0., 0., 0., 1., 1., 0., 0., 0.,\n",
       "       0., 0., 1., 0., 0., 0., 0., 0., 0., 0., 0., 0., 0., 1., 1., 0., 1.,\n",
       "       1., 0., 0., 1., 0., 1., 1., 1., 1., 0., 0., 1., 0., 0., 0., 0., 0.,\n",
       "       1., 0., 0., 1., 1., 1., 0., 1., 0., 0., 0., 1., 1., 0., 1., 0., 1.,\n",
       "       0., 0., 0., 1., 0., 1., 0., 0., 0., 1., 0., 0., 1., 0., 0., 0., 1.,\n",
       "       0., 0., 0., 1., 0., 0., 0., 0., 0., 1., 1., 0., 0., 0., 0., 0., 0.,\n",
       "       1., 1., 1., 1., 1., 0., 1., 0., 0., 0., 0., 0., 1., 1., 1., 0., 1.,\n",
       "       1., 0., 1., 1., 0., 0., 0., 1., 0., 0., 0., 1., 0., 0., 1., 0., 1.,\n",
       "       1., 1., 1., 0., 0., 0., 0., 0., 0., 1., 1., 1., 1., 0., 1., 0., 1.,\n",
       "       1., 1., 0., 1., 1., 1., 0., 0., 0., 1., 1., 0., 1., 1., 0., 0., 1.,\n",
       "       1., 0., 1., 0., 1., 1., 1., 1., 0., 0., 0., 1., 0., 0., 1., 1., 0.,\n",
       "       1., 1., 0., 0., 0., 1., 1., 1., 1., 0., 0., 0., 0., 0., 0., 0., 1.,\n",
       "       0., 1., 1., 0., 0., 0., 0., 0., 0., 1., 1., 1., 1., 1., 0., 0., 0.,\n",
       "       0., 1., 1., 0., 0., 0., 1., 1., 0., 1., 0., 0., 0., 1., 0., 1., 1.,\n",
       "       1., 0., 1., 1., 0., 0., 0., 0., 1., 1., 0., 0., 0., 0., 0., 0., 1.,\n",
       "       0., 0., 0., 0., 1., 0., 1., 0., 1., 1., 0., 0., 0., 0., 0., 0., 0.,\n",
       "       0., 1., 1., 0., 1., 1., 1., 1., 0., 0., 1., 0., 1., 0., 0., 1., 0.,\n",
       "       0., 1., 1., 1., 1., 1., 1., 1., 0., 0., 0., 1., 0., 1., 0., 1., 1.,\n",
       "       0., 1., 0., 0., 0., 0., 0., 0., 0., 0., 1., 0., 0., 1., 1., 0., 0.,\n",
       "       0., 0., 0., 1., 0., 0., 0., 1., 1., 0., 1., 0., 0., 1., 0., 0., 0.,\n",
       "       0., 0., 0., 1., 0., 0., 0., 0., 0., 0., 0., 1., 0., 1., 1., 0., 1.,\n",
       "       1., 0., 1., 1., 0., 0., 1., 0., 1., 0., 1., 0., 0., 1., 0., 0., 1.,\n",
       "       0., 0., 0., 1., 0., 0., 1., 0., 1., 0., 1., 0., 1., 1., 0., 0., 1.,\n",
       "       0., 0., 1., 1., 0., 1., 1., 0., 0., 1., 1., 0., 1., 0., 1., 1., 0.,\n",
       "       0., 0., 0., 0., 0., 0., 0., 0., 1., 1., 1., 1., 1., 0., 0., 1., 1.,\n",
       "       0., 1., 1., 1., 0., 0., 0., 1., 0., 1., 0., 0., 0., 1., 0., 0., 0.,\n",
       "       0., 1., 0., 0., 1., 1., 0., 0., 0., 1., 0., 0., 1., 1., 1., 0., 0.,\n",
       "       1., 0., 0., 1., 0., 0., 1., 0., 0., 1., 1., 0., 0., 0., 0., 1., 0.,\n",
       "       0., 1., 0., 1., 0., 0., 1., 0., 0., 0., 0., 0., 1., 0., 1., 1., 1.,\n",
       "       0., 1., 0., 1., 0., 1., 0., 1., 0., 0., 0., 0., 0., 0., 1., 0., 0.,\n",
       "       0., 1., 0., 0., 0., 0., 1., 1., 0., 0., 1., 0., 0., 0., 1., 0., 1.,\n",
       "       0., 1., 0., 0., 0., 0., 0., 0., 0., 1., 1., 1., 1., 0., 0., 0., 0.,\n",
       "       1., 0., 0., 1., 1., 0., 0., 0., 0., 1., 1., 1., 1., 1., 0., 1., 0.,\n",
       "       0., 0., 1., 1., 0., 0., 1., 0., 0., 0., 1., 0., 1., 1., 0., 0., 1.,\n",
       "       0., 0., 0., 0., 0., 0., 1., 0., 0., 1., 0., 1., 0., 1., 0., 0., 1.,\n",
       "       0., 0., 1., 1., 0., 0., 1., 1., 0., 0., 0., 1., 0., 0., 1., 1., 0.,\n",
       "       1., 0., 0., 0., 0., 0., 0., 0., 0., 1., 0., 0., 1., 0., 1., 1., 1.,\n",
       "       0., 0., 0., 0., 1., 0., 1., 0., 0., 0., 0., 0., 0., 0., 1., 1., 0.,\n",
       "       0., 0., 1., 1., 1., 1., 0., 0., 0., 0., 1., 0., 0., 0., 0., 0., 0.,\n",
       "       0., 0., 0., 0., 1., 1., 0., 1., 0., 0., 0., 1., 1., 1., 1., 1., 0.,\n",
       "       0., 0., 1., 0., 0., 1., 1., 0., 0., 1., 0., 0., 0., 0., 0., 0., 1.,\n",
       "       0., 0., 0., 1., 0., 1., 1., 1., 1., 0., 0., 0., 1., 0., 0., 1., 1.,\n",
       "       0., 0., 1., 0., 1., 0., 0., 1., 1., 0., 0., 0., 1., 1., 0., 0., 0.,\n",
       "       0., 0., 0., 1., 0., 1., 0.])"
      ]
     },
     "execution_count": 102,
     "metadata": {},
     "output_type": "execute_result"
    }
   ],
   "source": [
    "class Lo"
   ]
  },
  {
   "cell_type": "markdown",
   "metadata": {},
   "source": [
    "**T11.** Submit a screenshot of your submission (with the scores). Upload\n",
    "your code to courseville."
   ]
  },
  {
   "cell_type": "markdown",
   "metadata": {},
   "source": [
    "**T12.** Try adding some higher order features to your training (x21, x1x2,...).\n",
    "Does this model has better accuracy on the training set? How does it\n",
    "perform on the test set?"
   ]
  },
  {
   "cell_type": "markdown",
   "metadata": {},
   "source": [
    "**T13.** What happens if you reduce the amount of features to just Sex and\n",
    "Age?"
   ]
  },
  {
   "cell_type": "markdown",
   "metadata": {},
   "source": [
    "**T11.** Submit a screenshot of your submission (with the scores). Upload\n",
    "your code to courseville."
   ]
  },
  {
   "cell_type": "markdown",
   "metadata": {},
   "source": []
  },
  {
   "cell_type": "markdown",
   "metadata": {},
   "source": [
    "**OT3.** We want to show that matrix inversion yields the same answer\n",
    "as the gradient descent method. However, there is no closed form solution for\n",
    "logistic regression. Thus, we will use normal linear regression instead. Re-do\n",
    "the Titanic task as a regression problem by using linear regression. Use the\n",
    "gradient descent method."
   ]
  },
  {
   "cell_type": "markdown",
   "metadata": {},
   "source": [
    "**OT4.** Now try using matrix inversion instead. However Are the weights\n",
    "learned from the two methods similar? Report the Mean Squared Errors (MSE)\n",
    "of the difference between the two weights."
   ]
  },
  {
   "cell_type": "markdown",
   "metadata": {},
   "source": []
  },
  {
   "cell_type": "markdown",
   "metadata": {},
   "source": [
    "### [Optional] Fun with matrix algebra\n",
    "\n",
    "Prove the following statements. All of them can be solved by first expanding\n",
    "out the matrix notation as a combination of their elements, and then use the\n",
    "definitions of trace and matrix derivatives to help finish the proof. For example,\n",
    "the (i, j) element of $Y = AB$ is $Y_{i,j} = \\sum_m A_{i,m}B_{m,j}$."
   ]
  },
  {
   "cell_type": "markdown",
   "metadata": {},
   "source": [
    "**OT5.** $\\triangledown_{A^{tr}} AB = B^T$"
   ]
  },
  {
   "cell_type": "markdown",
   "metadata": {},
   "source": [
    "**OT5.** $\\triangledown_{A^{T}} f(A) = (\\triangledown_{A}f(A))^T$"
   ]
  },
  {
   "cell_type": "markdown",
   "metadata": {},
   "source": [
    "**OT5.** $\\triangledown_{A^{tr}} ABA^TC = CAB + C^TAB^T$"
   ]
  },
  {
   "cell_type": "markdown",
   "metadata": {},
   "source": [
    "Hint: Try first solving the easier equation of $\\triangledown_{A^{tr}} BAC = (CB)^T = B^TC^T$\n"
   ]
  },
  {
   "cell_type": "markdown",
   "metadata": {},
   "source": []
  }
 ],
 "metadata": {
  "kernelspec": {
   "display_name": "Python 3",
   "language": "python",
   "name": "python3"
  },
  "language_info": {
   "codemirror_mode": {
    "name": "ipython",
    "version": 3
   },
   "file_extension": ".py",
   "mimetype": "text/x-python",
   "name": "python",
   "nbconvert_exporter": "python",
   "pygments_lexer": "ipython3",
   "version": "3.10.13"
  }
 },
 "nbformat": 4,
 "nbformat_minor": 2
}
